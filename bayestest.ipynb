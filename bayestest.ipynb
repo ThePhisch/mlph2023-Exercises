{
 "cells": [
  {
   "cell_type": "code",
   "execution_count": 2,
   "metadata": {},
   "outputs": [],
   "source": [
    "import torch\n",
    "import torch.nn as nn\n",
    "import torch.nn.functional as F\n",
    "from torch.autograd import Variable"
   ]
  },
  {
   "cell_type": "code",
   "execution_count": 4,
   "metadata": {},
   "outputs": [],
   "source": [
    "class BayesianLinear(nn.Module):\n",
    "    def __init__(self, in_features, out_features):\n",
    "        super(BayesianLinear, self).__init__()\n",
    "        self.in_features = in_features\n",
    "        self.out_features = out_features\n",
    "\n",
    "        # Define parameters for weight mean and standard deviation\n",
    "        self.weight_mu = nn.Parameter(torch.Tensor(out_features, in_features))\n",
    "        self.weight_rho = nn.Parameter(torch.Tensor(out_features, in_features))\n",
    "\n",
    "        # Initialize parameters\n",
    "        self.reset_parameters()\n",
    "\n",
    "    def reset_parameters(self):\n",
    "        nn.init.normal_(self.weight_mu, mean=0, std=0.1)\n",
    "        nn.init.constant_(self.weight_rho, -5)\n",
    "\n",
    "    def forward(self, x):\n",
    "        # During training, sample random weights from the distribution\n",
    "        if self.training:\n",
    "            epsilon = torch.randn_like(self.weight_mu)\n",
    "            weight = self.weight_mu + torch.log(1 + torch.exp(self.weight_rho)) * epsilon\n",
    "        else:\n",
    "            # During evaluation, use the mean of the distribution\n",
    "            weight = self.weight_mu\n",
    "\n",
    "        return F.linear(x, weight)\n",
    "\n",
    "class BayesianNetwork(nn.Module):\n",
    "    def __init__(self, input_size, hidden_size, output_size):\n",
    "        super(BayesianNetwork, self).__init__()\n",
    "        self.fc1 = BayesianLinear(input_size, hidden_size)\n",
    "        self.fc2 = BayesianLinear(hidden_size, output_size)\n",
    "\n",
    "    def forward(self, x):\n",
    "        x = F.relu(self.fc1(x))\n",
    "        x = self.fc2(x)\n",
    "        return x\n"
   ]
  },
  {
   "cell_type": "code",
   "execution_count": 5,
   "metadata": {},
   "outputs": [
    {
     "name": "stdout",
     "output_type": "stream",
     "text": [
      "Model Output: tensor([[0.0115]], grad_fn=<MmBackward0>)\n"
     ]
    }
   ],
   "source": [
    "# Example usage\n",
    "input_size = 10\n",
    "hidden_size = 5\n",
    "output_size = 1\n",
    "\n",
    "bayesian_net = BayesianNetwork(input_size, hidden_size, output_size)\n",
    "input_data = torch.randn(1, input_size)  # Replace this with your actual input data\n",
    "\n",
    "output = bayesian_net(input_data)\n",
    "print(\"Model Output:\", output)"
   ]
  }
 ],
 "metadata": {
  "kernelspec": {
   "display_name": "mlenv",
   "language": "python",
   "name": "python3"
  },
  "language_info": {
   "codemirror_mode": {
    "name": "ipython",
    "version": 3
   },
   "file_extension": ".py",
   "mimetype": "text/x-python",
   "name": "python",
   "nbconvert_exporter": "python",
   "pygments_lexer": "ipython3",
   "version": "3.10.13"
  }
 },
 "nbformat": 4,
 "nbformat_minor": 2
}
